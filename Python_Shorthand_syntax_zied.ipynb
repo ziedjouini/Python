{
  "nbformat": 4,
  "nbformat_minor": 0,
  "metadata": {
    "colab": {
      "provenance": [],
      "collapsed_sections": []
    },
    "kernelspec": {
      "name": "python3",
      "display_name": "Python 3"
    },
    "language_info": {
      "name": "python"
    }
  },
  "cells": [
    {
      "cell_type": "markdown",
      "source": [
        "Une fonction qui convertit des montants en dollars vers des montants en euros (prends le cours euro/dollar du jour où tu fais la quête)."
      ],
      "metadata": {
        "id": "VTeJhtkUP5ts"
      }
    },
    {
      "cell_type": "code",
      "execution_count": null,
      "metadata": {
        "colab": {
          "base_uri": "https://localhost:8080/"
        },
        "id": "LEG-bfh3Pr-Z",
        "outputId": "246ce75d-490c-4784-991f-84a7a8406a88"
      },
      "outputs": [
        {
          "output_type": "execute_result",
          "data": {
            "text/plain": [
              "20.2"
            ]
          },
          "metadata": {},
          "execution_count": 53
        }
      ],
      "source": [
        "def dollar_to_euro(nombre):\n",
        "  #1 dollar= 1.01 euro# le 18/10:2022\n",
        "  return round((nombre*1.01),2)\n",
        "dollar_to_euro(20)\n"
      ]
    },
    {
      "cell_type": "code",
      "source": [
        "prices=[12,234,543,123]\n",
        "montants=[]\n",
        "for price in prices:\n",
        "  a=dollar_to_euro(price)\n",
        "  montants.append(a)\n",
        "print(montants)"
      ],
      "metadata": {
        "colab": {
          "base_uri": "https://localhost:8080/"
        },
        "id": "P_QtFNchmSWX",
        "outputId": "1c969f7c-4c16-4c75-91be-09fe022aa725"
      },
      "execution_count": null,
      "outputs": [
        {
          "output_type": "stream",
          "name": "stdout",
          "text": [
            "[12.12, 236.34, 548.43, 124.23]\n"
          ]
        }
      ]
    },
    {
      "cell_type": "code",
      "source": [
        "prices=[12,234,543,123]\n",
        "[dollar_to_euro(nombre) for nombre in prices ]\n"
      ],
      "metadata": {
        "colab": {
          "base_uri": "https://localhost:8080/"
        },
        "id": "1dJum904xljV",
        "outputId": "25a4dfa6-2e34-4726-e548-51e868d4a703"
      },
      "execution_count": null,
      "outputs": [
        {
          "output_type": "execute_result",
          "data": {
            "text/plain": [
              "[12.12, 236.34, 548.43, 124.23]"
            ]
          },
          "metadata": {},
          "execution_count": 61
        }
      ]
    },
    {
      "cell_type": "code",
      "source": [
        "\n",
        "(lambda x: x*1.02)(2)"
      ],
      "metadata": {
        "colab": {
          "base_uri": "https://localhost:8080/"
        },
        "id": "m54lM-pPusQy",
        "outputId": "efa73f02-9386-433a-f215-b5d05580f20a"
      },
      "execution_count": null,
      "outputs": [
        {
          "output_type": "execute_result",
          "data": {
            "text/plain": [
              "2.04"
            ]
          },
          "metadata": {},
          "execution_count": 2
        }
      ]
    },
    {
      "cell_type": "markdown",
      "source": [
        "Une fonction qui renvoie la somme des nombres pairs présents dans une liste contenant des nombres entiers."
      ],
      "metadata": {
        "id": "Yp2wB5ddRbSs"
      }
    },
    {
      "cell_type": "code",
      "source": [
        "test_list = [0, 3, -6, 9, 12, -15, 18, -21, 24, 27]\n",
        "sumpaire=0\n",
        "for num in test_list:\n",
        "  if num%2==0:\n",
        "    sumpaire+=num\n",
        "print(sumpaire)\n",
        "  \n",
        "\n",
        "\n"
      ],
      "metadata": {
        "colab": {
          "base_uri": "https://localhost:8080/"
        },
        "id": "qaNEG24_RazJ",
        "outputId": "6f63fc2a-0eca-473a-b0c3-41efa6628c40"
      },
      "execution_count": null,
      "outputs": [
        {
          "output_type": "stream",
          "name": "stdout",
          "text": [
            "48\n"
          ]
        }
      ]
    },
    {
      "cell_type": "code",
      "source": [
        "def sum(test_list):\n",
        "  sumpaire=0\n",
        "  for num in test_list:\n",
        "    if num%2==0:\n",
        "      sumpaire+=num\n",
        "  return sumpaire\n",
        "test_list = [0, 3, -6, 9, 12, -15, 18, -21, 24, 27]   \n",
        "print(sum(test_list))\n"
      ],
      "metadata": {
        "colab": {
          "base_uri": "https://localhost:8080/"
        },
        "id": "bgapri2QbIoe",
        "outputId": "1f2ea4ea-5b18-4a40-f933-93fc7e3cb3a6"
      },
      "execution_count": null,
      "outputs": [
        {
          "output_type": "stream",
          "name": "stdout",
          "text": [
            "48\n"
          ]
        }
      ]
    },
    {
      "cell_type": "markdown",
      "source": [
        "Une fonction qui convertit une liste de nombres entiers positifs ou négatifs) en une nouvelle liste contenant leurs valeurs absolues."
      ],
      "metadata": {
        "id": "nfDqwWA1b9yN"
      }
    },
    {
      "cell_type": "code",
      "source": [
        "test_list = [0, 3, -6, 9, 12, -15, 18, -21, 24, 27]\n",
        "listepositif=[]\n",
        "for num in test_list:\n",
        "  if num>=0:\n",
        "    num==num\n",
        "    listepositif.append(num)\n",
        "  else:\n",
        "    num==-num\n",
        "    listepositif.append(-num)\n",
        "print(listepositif)\n",
        "\n"
      ],
      "metadata": {
        "colab": {
          "base_uri": "https://localhost:8080/"
        },
        "id": "fwSSlkbscGc7",
        "outputId": "c2734050-fdfe-4275-ebcd-5670ce178ce4"
      },
      "execution_count": null,
      "outputs": [
        {
          "output_type": "stream",
          "name": "stdout",
          "text": [
            "[0, 3, 6, 9, 12, 15, 18, 21, 24, 27]\n"
          ]
        }
      ]
    },
    {
      "cell_type": "code",
      "source": [
        "test_list = [0, 3, -6, 9, 12, -15, 18, -21, 24, 27]\n",
        "listepositif=[]\n",
        "for num in test_list:\n",
        "  num=abs(num)\n",
        "  listepositif.append(num)\n",
        "print(listepositif)"
      ],
      "metadata": {
        "colab": {
          "base_uri": "https://localhost:8080/"
        },
        "id": "l2epRalbjO99",
        "outputId": "bee1d129-47b5-43df-fe1a-8ab67b388871"
      },
      "execution_count": null,
      "outputs": [
        {
          "output_type": "stream",
          "name": "stdout",
          "text": [
            "[0, 3, 6, 9, 12, 15, 18, 21, 24, 27]\n"
          ]
        }
      ]
    },
    {
      "cell_type": "code",
      "source": [
        "#j'ai filtrer les valeur + de 0 (valeur positif)\n",
        "test_list = [0, 3, -6, 9, 12, -15, 18, -21, 24, 27]\n",
        "list(filter(lambda x: x>=0, test_list))\n",
        "\n"
      ],
      "metadata": {
        "colab": {
          "base_uri": "https://localhost:8080/"
        },
        "id": "6sPg1h4XkIGB",
        "outputId": "0a0b55e6-5305-4a47-df19-03300159ff87"
      },
      "execution_count": null,
      "outputs": [
        {
          "output_type": "execute_result",
          "data": {
            "text/plain": [
              "[0, 3, 9, 12, 18, 24, 27]"
            ]
          },
          "metadata": {},
          "execution_count": 68
        }
      ]
    },
    {
      "cell_type": "code",
      "source": [
        "test_list = [0, 3, -6, 9, 12, -15, 18, -21, 24, 27]\n",
        "[abs(x) for x in test_list]"
      ],
      "metadata": {
        "colab": {
          "base_uri": "https://localhost:8080/"
        },
        "id": "Djq8OPRfl9U1",
        "outputId": "450e2618-5adf-4dbd-9c7e-b7d8670989aa"
      },
      "execution_count": null,
      "outputs": [
        {
          "output_type": "execute_result",
          "data": {
            "text/plain": [
              "[0, 3, 6, 9, 12, 15, 18, 21, 24, 27]"
            ]
          },
          "metadata": {},
          "execution_count": 23
        }
      ]
    },
    {
      "cell_type": "code",
      "source": [
        "list(map(abs, test_list))"
      ],
      "metadata": {
        "colab": {
          "base_uri": "https://localhost:8080/"
        },
        "id": "XW8R3d1z3Y1j",
        "outputId": "f51c2677-a113-4ce6-a1af-45fc50149c38"
      },
      "execution_count": null,
      "outputs": [
        {
          "output_type": "execute_result",
          "data": {
            "text/plain": [
              "[0, 3, 6, 9, 12, 15, 18, 21, 24, 27]"
            ]
          },
          "metadata": {},
          "execution_count": 70
        }
      ]
    }
  ]
}